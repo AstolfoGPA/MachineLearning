{
  "nbformat": 4,
  "nbformat_minor": 0,
  "metadata": {
    "colab": {
      "name": "FraudDetection.ipynb",
      "version": "0.3.2",
      "provenance": [],
      "collapsed_sections": [],
      "toc_visible": true
    },
    "kernelspec": {
      "name": "python3",
      "display_name": "Python 3"
    }
  },
  "cells": [
    {
      "cell_type": "code",
      "metadata": {
        "id": "4Cw748CbSKD1",
        "colab_type": "code",
        "colab": {
          "base_uri": "https://localhost:8080/",
          "height": 530
        },
        "outputId": "fa80b0d0-5461-429a-c073-476ddcac6342"
      },
      "source": [
        "#Libraries installation\n",
        "!pip install pandas\n",
        "!pip install scikit-learn\n",
        "!pip install seaborn\n",
        "!pip install matplotlib"
      ],
      "execution_count": 1,
      "outputs": [
        {
          "output_type": "stream",
          "text": [
            "Requirement already satisfied: pandas in /usr/local/lib/python3.6/dist-packages (0.24.2)\n",
            "Requirement already satisfied: python-dateutil>=2.5.0 in /usr/local/lib/python3.6/dist-packages (from pandas) (2.5.3)\n",
            "Requirement already satisfied: numpy>=1.12.0 in /usr/local/lib/python3.6/dist-packages (from pandas) (1.16.5)\n",
            "Requirement already satisfied: pytz>=2011k in /usr/local/lib/python3.6/dist-packages (from pandas) (2018.9)\n",
            "Requirement already satisfied: six>=1.5 in /usr/local/lib/python3.6/dist-packages (from python-dateutil>=2.5.0->pandas) (1.12.0)\n",
            "Requirement already satisfied: scikit-learn in /usr/local/lib/python3.6/dist-packages (0.21.3)\n",
            "Requirement already satisfied: joblib>=0.11 in /usr/local/lib/python3.6/dist-packages (from scikit-learn) (0.13.2)\n",
            "Requirement already satisfied: scipy>=0.17.0 in /usr/local/lib/python3.6/dist-packages (from scikit-learn) (1.3.1)\n",
            "Requirement already satisfied: numpy>=1.11.0 in /usr/local/lib/python3.6/dist-packages (from scikit-learn) (1.16.5)\n",
            "Requirement already satisfied: seaborn in /usr/local/lib/python3.6/dist-packages (0.9.0)\n",
            "Requirement already satisfied: scipy>=0.14.0 in /usr/local/lib/python3.6/dist-packages (from seaborn) (1.3.1)\n",
            "Requirement already satisfied: numpy>=1.9.3 in /usr/local/lib/python3.6/dist-packages (from seaborn) (1.16.5)\n",
            "Requirement already satisfied: matplotlib>=1.4.3 in /usr/local/lib/python3.6/dist-packages (from seaborn) (3.0.3)\n",
            "Requirement already satisfied: pandas>=0.15.2 in /usr/local/lib/python3.6/dist-packages (from seaborn) (0.24.2)\n",
            "Requirement already satisfied: python-dateutil>=2.1 in /usr/local/lib/python3.6/dist-packages (from matplotlib>=1.4.3->seaborn) (2.5.3)\n",
            "Requirement already satisfied: cycler>=0.10 in /usr/local/lib/python3.6/dist-packages (from matplotlib>=1.4.3->seaborn) (0.10.0)\n",
            "Requirement already satisfied: pyparsing!=2.0.4,!=2.1.2,!=2.1.6,>=2.0.1 in /usr/local/lib/python3.6/dist-packages (from matplotlib>=1.4.3->seaborn) (2.4.2)\n",
            "Requirement already satisfied: kiwisolver>=1.0.1 in /usr/local/lib/python3.6/dist-packages (from matplotlib>=1.4.3->seaborn) (1.1.0)\n",
            "Requirement already satisfied: pytz>=2011k in /usr/local/lib/python3.6/dist-packages (from pandas>=0.15.2->seaborn) (2018.9)\n",
            "Requirement already satisfied: six>=1.5 in /usr/local/lib/python3.6/dist-packages (from python-dateutil>=2.1->matplotlib>=1.4.3->seaborn) (1.12.0)\n",
            "Requirement already satisfied: setuptools in /usr/local/lib/python3.6/dist-packages (from kiwisolver>=1.0.1->matplotlib>=1.4.3->seaborn) (41.2.0)\n",
            "Requirement already satisfied: matplotlib in /usr/local/lib/python3.6/dist-packages (3.0.3)\n",
            "Requirement already satisfied: cycler>=0.10 in /usr/local/lib/python3.6/dist-packages (from matplotlib) (0.10.0)\n",
            "Requirement already satisfied: kiwisolver>=1.0.1 in /usr/local/lib/python3.6/dist-packages (from matplotlib) (1.1.0)\n",
            "Requirement already satisfied: numpy>=1.10.0 in /usr/local/lib/python3.6/dist-packages (from matplotlib) (1.16.5)\n",
            "Requirement already satisfied: python-dateutil>=2.1 in /usr/local/lib/python3.6/dist-packages (from matplotlib) (2.5.3)\n",
            "Requirement already satisfied: pyparsing!=2.0.4,!=2.1.2,!=2.1.6,>=2.0.1 in /usr/local/lib/python3.6/dist-packages (from matplotlib) (2.4.2)\n",
            "Requirement already satisfied: six in /usr/local/lib/python3.6/dist-packages (from cycler>=0.10->matplotlib) (1.12.0)\n",
            "Requirement already satisfied: setuptools in /usr/local/lib/python3.6/dist-packages (from kiwisolver>=1.0.1->matplotlib) (41.2.0)\n"
          ],
          "name": "stdout"
        }
      ]
    },
    {
      "cell_type": "code",
      "metadata": {
        "id": "r_aE-92STSs4",
        "colab_type": "code",
        "colab": {}
      },
      "source": [
        "import pandas as pd\n",
        "from sklearn.model_selection import StratifiedShuffleSplit, cross_val_score\n",
        "from sklearn.linear_model import LogisticRegression\n",
        "from sklearn.metrics import classification_report\n",
        "from sklearn.preprocessing import MinMaxScaler\n",
        "from sklearn.feature_extraction.text import CountVectorizer\n",
        "\n",
        "import numpy as np\n",
        "import seaborn as sns\n",
        "import matplotlib.pyplot as plt"
      ],
      "execution_count": 0,
      "outputs": []
    },
    {
      "cell_type": "code",
      "metadata": {
        "id": "gOfF2hU2D55A",
        "colab_type": "code",
        "outputId": "3010c9b9-b693-4f76-9900-6ed35646a1b2",
        "colab": {
          "base_uri": "https://localhost:8080/",
          "height": 54
        }
      },
      "source": [
        "from google.colab import drive\n",
        "\n",
        "drive.mount('/content/drive')"
      ],
      "execution_count": 3,
      "outputs": [
        {
          "output_type": "stream",
          "text": [
            "Drive already mounted at /content/drive; to attempt to forcibly remount, call drive.mount(\"/content/drive\", force_remount=True).\n"
          ],
          "name": "stdout"
        }
      ]
    },
    {
      "cell_type": "code",
      "metadata": {
        "id": "YqBsK9xQTh85",
        "colab_type": "code",
        "colab": {}
      },
      "source": [
        "test_ident = pd.read_csv('/content/drive/My Drive/PythonData/KaggleComp_FraudDetection/test_identity.csv', low_memory=False)\n",
        "test_trans = pd.read_csv('/content/drive/My Drive/PythonData/KaggleComp_FraudDetection/test_transaction.csv', low_memory=False)\n",
        "\n",
        "train_ident = pd.read_csv('/content/drive/My Drive/PythonData/KaggleComp_FraudDetection/train_identity.csv', low_memory=False)\n",
        "train_trans = pd.read_csv('/content/drive/My Drive/PythonData/KaggleComp_FraudDetection/train_transaction.csv', low_memory=False)\n",
        "\n",
        "#df = df.sample(frac=1).reset_index(drop=True)"
      ],
      "execution_count": 0,
      "outputs": []
    },
    {
      "cell_type": "code",
      "metadata": {
        "id": "KOBJGv6Vbzkx",
        "colab_type": "code",
        "colab": {}
      },
      "source": [
        " #Function to reduce the sie of the data, changing data from float64->float32, etc.\n",
        "  def reduce_mem_usage(df):\n",
        "    numv = ['int8','int16', 'int32', 'int64', 'float16', 'float32', 'float64']\n",
        "    start_mem = df.memory_usage().sum() / 1024**2 \n",
        "    for col in df.columns:\n",
        "        vt = df[col].dtypes\n",
        "        if vt in numv:\n",
        "            max_c = df[col].max()\n",
        "            min_c = df[col].min()\n",
        "            if str(vt)[:3] == 'int':\n",
        "                if min_c > np.iinfo(np.int8).min and max_c < np.iinfo(np.int8).max:\n",
        "                    df[col] = df[col].astype(np.int8)\n",
        "                elif min_c > np.iinfo(np.int16).min and max_c < np.iinfo(np.int16).max:\n",
        "                    df[col] = df[col].astype(np.int16)\n",
        "                elif min_c > np.iinfo(np.int32).min and max_c < np.iinfo(np.int32).max:\n",
        "                    df[col] = df[col].astype(np.int32)\n",
        "                elif min_c > np.iinfo(np.int64).min and max_c < np.iinfo(np.int64).max:\n",
        "                    df[col] = df[col].astype(np.int64)\n",
        "            else:\n",
        "                if min_c > np.finfo(np.float16).min and max_c < np.finfo(np.float16).max:\n",
        "                    df[col] = df[col].astype(np.float16)\n",
        "                elif min_c > np.finfo(np.float32).min and max_c < np.finfo(np.float32).max:\n",
        "                    df[col] = df[col].astype(np.float32)\n",
        "                elif min_c > np.finfo(np.float64).min and max_c < np.finfo(np.float64).max:\n",
        "                    df[col] = df[col].astype(np.float64)\n",
        "    end_mem = df.memory_usage().sum() / 1024**2\n",
        "    print('Mem. usage decreased to {:5.2f} Mb ({:.1f}% reduction)'.format(end_mem, 100 * (start_mem - end_mem) / start_mem))\n",
        "    return df"
      ],
      "execution_count": 0,
      "outputs": []
    },
    {
      "cell_type": "code",
      "metadata": {
        "id": "1qkeeXdMVUx6",
        "colab_type": "code",
        "outputId": "ef464e67-0374-4297-900d-6d7b678f0233",
        "colab": {
          "base_uri": "https://localhost:8080/",
          "height": 85
        }
      },
      "source": [
        "#Reduce size\n",
        "test_ident = reduce_mem_usage(test_ident)\n",
        "test_trans = reduce_mem_usage(test_trans)\n",
        "\n",
        "train_ident = reduce_mem_usage(train_ident)\n",
        "train_trans = reduce_mem_usage(train_trans)"
      ],
      "execution_count": 6,
      "outputs": [
        {
          "output_type": "stream",
          "text": [
            "Mem. usage decreased to 25.44 Mb (42.7% reduction)\n",
            "Mem. usage decreased to 472.59 Mb (68.9% reduction)\n",
            "Mem. usage decreased to 25.86 Mb (42.7% reduction)\n",
            "Mem. usage decreased to 542.35 Mb (69.4% reduction)\n"
          ],
          "name": "stdout"
        }
      ]
    },
    {
      "cell_type": "code",
      "metadata": {
        "id": "hvpuWZKaTkpk",
        "colab_type": "code",
        "outputId": "c0c0374b-0e2a-4ab3-cfd1-b2fe387f195a",
        "colab": {
          "base_uri": "https://localhost:8080/",
          "height": 51
        }
      },
      "source": [
        "#Join dataset using TransactionID as index\n",
        "dftrain = pd.merge(train_trans, train_ident, on='TransactionID', how='left')\n",
        "print(dftrain.shape)\n",
        "\n",
        "dfttest = pd.merge(test_trans, test_ident, on='TransactionID', how='left')\n",
        "print(dftrain.shape)\n",
        "\n",
        "del train_ident, train_trans, test_trans, test_ident"
      ],
      "execution_count": 7,
      "outputs": [
        {
          "output_type": "stream",
          "text": [
            "(590540, 434)\n",
            "(590540, 434)\n"
          ],
          "name": "stdout"
        }
      ]
    },
    {
      "cell_type": "code",
      "metadata": {
        "id": "QsHqfBKFkE4z",
        "colab_type": "code",
        "colab": {}
      },
      "source": [
        "#Creating an dataframe with null values and percentage\n",
        "miss_data = pd.isnull(dftrain).sum().sort_values(ascending=False)\n",
        "miss_per = (miss_data/len(dftrain))*100\n",
        "missing_data = pd.concat(objs = [miss_data, miss_per], keys = ['Columns','Missing values percentage'], axis = 1)"
      ],
      "execution_count": 0,
      "outputs": []
    },
    {
      "cell_type": "code",
      "metadata": {
        "id": "hwa4-9CKqe5b",
        "colab_type": "code",
        "outputId": "c4f39c3e-319a-4fef-d2dd-9c8655e59721",
        "colab": {
          "base_uri": "https://localhost:8080/",
          "height": 429
        }
      },
      "source": [
        "plt.figure(figsize=(90,6))\n",
        "p = sns.barplot(x = 'Columns', y = 'Missing values percentage', data = missing_data)\n",
        "p.set_xticklabels(list(dftrain.columns))\n",
        "p"
      ],
      "execution_count": 9,
      "outputs": [
        {
          "output_type": "execute_result",
          "data": {
            "text/plain": [
              "<matplotlib.axes._subplots.AxesSubplot at 0x7f83765ae240>"
            ]
          },
          "metadata": {
            "tags": []
          },
          "execution_count": 9
        },
        {
          "output_type": "display_data",
          "data": {
            "image/png": "[encoded data removed]",
            "text/plain": [
              "<Figure size 6480x432 with 1 Axes>"
            ]
          },
          "metadata": {
            "tags": []
          }
        }
      ]
    },
    {
      "cell_type": "code",
      "metadata": {
        "id": "B71-o59Ts35x",
        "colab_type": "code",
        "outputId": "0f29ada4-e90c-4d1b-de18-bc029130cb22",
        "colab": {
          "base_uri": "https://localhost:8080/",
          "height": 102
        }
      },
      "source": [
        "#Delete the columns with less than 90% of the data\n",
        "nullcol = [col for col in dftrain.columns if dftrain[col].isnull().sum()/dftrain.shape[0] >= 0.9]\n",
        "print(\"More than 90% null: \" + str(len(nullcol)))\n",
        "print(nullcol)\n",
        "print(\"\")\n",
        "print(\"Shape before: \" + str(dftrain.shape))\n",
        "dftrain = dftrain.drop(nullcol, axis=1)\n",
        "print(\"Shape after: \" + str(dftrain.shape))"
      ],
      "execution_count": 10,
      "outputs": [
        {
          "output_type": "stream",
          "text": [
            "More than 90% null: 12\n",
            "['dist2', 'D7', 'id_07', 'id_08', 'id_18', 'id_21', 'id_22', 'id_23', 'id_24', 'id_25', 'id_26', 'id_27']\n",
            "\n",
            "Shape before: (590540, 434)\n",
            "Shape after: (590540, 422)\n"
          ],
          "name": "stdout"
        }
      ]
    },
    {
      "cell_type": "code",
      "metadata": {
        "id": "4m0wDxI9yoHE",
        "colab_type": "code",
        "outputId": "bb5b4df6-7d88-4588-d56e-0cd0d46f8cd4",
        "colab": {
          "base_uri": "https://localhost:8080/",
          "height": 51
        }
      },
      "source": [
        "#Check nullcol for isFraud == 1\n",
        "print(\"Fraudulents \" + str(len(dftrain.loc[dftrain['isFraud']==1])))\n",
        "print(\"Non Fraudulents \" + str(len(dftrain.loc[dftrain['isFraud']==0])))\n",
        "\n",
        "#nullcolf = [col for col in dftrain.columns if dftrain[col].isnull().sum()/dftrain.shape[0] >= 0.9 and dftrain.loc[dftrain['isFraud']==1]]\n",
        "#print(nullcolf)"
      ],
      "execution_count": 11,
      "outputs": [
        {
          "output_type": "stream",
          "text": [
            "Fraudulents 20663\n",
            "Non Fraudulents 569877\n"
          ],
          "name": "stdout"
        }
      ]
    },
    {
      "cell_type": "code",
      "metadata": {
        "id": "NO3kTS4R3ftc",
        "colab_type": "code",
        "outputId": "af738d35-8659-4ffe-9e9c-d1749c2f90d0",
        "colab": {
          "base_uri": "https://localhost:8080/",
          "height": 85
        }
      },
      "source": [
        "#Columns that have 0 missing percent\n",
        "print(missing_data.loc[missing_data['Missing values percentage']==0].index)\n"
      ],
      "execution_count": 12,
      "outputs": [
        {
          "output_type": "stream",
          "text": [
            "Index(['card1', 'ProductCD', 'TransactionAmt', 'TransactionDT', 'isFraud',\n",
            "       'C9', 'C1', 'C2', 'C3', 'C4', 'C5', 'C6', 'C7', 'C8', 'C10', 'C11',\n",
            "       'C12', 'C13', 'C14', 'TransactionID'],\n",
            "      dtype='object')\n"
          ],
          "name": "stdout"
        }
      ]
    },
    {
      "cell_type": "code",
      "metadata": {
        "id": "EcRdVRd63hhT",
        "colab_type": "code",
        "outputId": "2c98ad51-7578-4382-db3e-92700a5f45f3",
        "colab": {
          "base_uri": "https://localhost:8080/",
          "height": 156
        }
      },
      "source": [
        "#Standarize the non númeric values\n",
        "numericCols = dftrain._get_numeric_data().columns\n",
        "non_numericCols = list(set(dftrain.columns) - set(numericCols))\n",
        "print(non_numericCols)\n",
        "print(numericCols)\n",
        "dftrain[non_numericCols] = dftrain[non_numericCols].replace({np.nan:'missing'})\n",
        "dftrain[numericCols] = dftrain[numericCols].replace({np.nan: 999})\n",
        "\n"
      ],
      "execution_count": 13,
      "outputs": [
        {
          "output_type": "stream",
          "text": [
            "['DeviceInfo', 'P_emaildomain', 'M5', 'M7', 'id_30', 'M8', 'M6', 'M2', 'DeviceType', 'M1', 'R_emaildomain', 'id_29', 'id_12', 'id_16', 'id_37', 'id_38', 'id_31', 'id_35', 'M9', 'ProductCD', 'card6', 'id_28', 'card4', 'id_34', 'id_33', 'M4', 'id_15', 'M3', 'id_36']\n",
            "Index(['TransactionID', 'isFraud', 'TransactionDT', 'TransactionAmt', 'card1',\n",
            "       'card2', 'card3', 'card5', 'addr1', 'addr2',\n",
            "       ...\n",
            "       'id_06', 'id_09', 'id_10', 'id_11', 'id_13', 'id_14', 'id_17', 'id_19',\n",
            "       'id_20', 'id_32'],\n",
            "      dtype='object', length=393)\n"
          ],
          "name": "stdout"
        }
      ]
    },
    {
      "cell_type": "code",
      "metadata": {
        "id": "X52IvKq6Q3Lc",
        "colab_type": "code",
        "outputId": "7609e6f9-9c0a-4e5d-858e-f88fd91a15c9",
        "colab": {
          "base_uri": "https://localhost:8080/",
          "height": 1000
        }
      },
      "source": [
        "print(np.unique(dftrain['P_emaildomain']))\n",
        "print(np.unique(dftrain['M6']))\n",
        "print(np.unique(dftrain['ProductCD']))\n",
        "print(np.unique(dftrain['id_37']))\n",
        "print(np.unique(dftrain['id_35']))\n",
        "print(np.unique(dftrain['card6']))\n",
        "print(np.unique(dftrain['M2']))\n",
        "print(np.unique(dftrain['id_15']))\n",
        "print(np.unique(dftrain['DeviceInfo']))\n",
        "print(np.unique(dftrain['id_28']))\n",
        "print(np.unique(dftrain['id_16']))\n",
        "print(np.unique(dftrain['M8']))\n",
        "print(np.unique(dftrain['M9']))\n",
        "print(np.unique(dftrain['DeviceType']))\n",
        "#print(np.unique(dftrain['id_33']))\n",
        "print(np.unique(dftrain['id_31']))\n",
        "print(np.unique(dftrain['M1']))\n",
        "print(np.unique(dftrain['card4']))\n",
        "print(np.unique(dftrain['R_emaildomain']))\n",
        "print(np.unique(dftrain['M7']))\n",
        "#print(np.unique(dftrain['id_30']))\n",
        "#print(np.unique(dftrain['id_34']))\n",
        "print(np.unique(dftrain['M4']))\n",
        "print(np.unique(dftrain['id_12']))\n",
        "print(np.unique(dftrain['id_29']))\n",
        "print(np.unique(dftrain['id_36']))\n",
        "print(np.unique(dftrain['M3']))\n",
        "print(np.unique(dftrain['id_38']))\n",
        "print(np.unique(dftrain['M5']))"
      ],
      "execution_count": 14,
      "outputs": [
        {
          "output_type": "stream",
          "text": [
            "['aim.com' 'anonymous.com' 'aol.com' 'att.net' 'bellsouth.net'\n",
            " 'cableone.net' 'centurylink.net' 'cfl.rr.com' 'charter.net' 'comcast.net'\n",
            " 'cox.net' 'earthlink.net' 'embarqmail.com' 'frontier.com'\n",
            " 'frontiernet.net' 'gmail' 'gmail.com' 'gmx.de' 'hotmail.co.uk'\n",
            " 'hotmail.com' 'hotmail.de' 'hotmail.es' 'hotmail.fr' 'icloud.com'\n",
            " 'juno.com' 'live.com' 'live.com.mx' 'live.fr' 'mac.com' 'mail.com'\n",
            " 'me.com' 'missing' 'msn.com' 'netzero.com' 'netzero.net' 'optonline.net'\n",
            " 'outlook.com' 'outlook.es' 'prodigy.net.mx' 'protonmail.com' 'ptd.net'\n",
            " 'q.com' 'roadrunner.com' 'rocketmail.com' 'sbcglobal.net' 'sc.rr.com'\n",
            " 'servicios-ta.com' 'suddenlink.net' 'twc.com' 'verizon.net' 'web.de'\n",
            " 'windstream.net' 'yahoo.co.jp' 'yahoo.co.uk' 'yahoo.com' 'yahoo.com.mx'\n",
            " 'yahoo.de' 'yahoo.es' 'yahoo.fr' 'ymail.com']\n",
            "['F' 'T' 'missing']\n",
            "['C' 'H' 'R' 'S' 'W']\n",
            "['F' 'T' 'missing']\n",
            "['F' 'T' 'missing']\n",
            "['charge card' 'credit' 'debit' 'debit or credit' 'missing']\n",
            "['F' 'T' 'missing']\n",
            "['Found' 'New' 'Unknown' 'missing']\n",
            "['0PAJ5' '0PJA2' '0PM92' ... 'verykools5035' 'vivo' 'xs-Z47b7VqTMxs']\n",
            "['Found' 'New' 'missing']\n",
            "['Found' 'NotFound' 'missing']\n",
            "['F' 'T' 'missing']\n",
            "['F' 'T' 'missing']\n",
            "['desktop' 'missing' 'mobile']\n",
            "['BLU/Dash' 'Cherry' 'Generic/Android' 'Generic/Android 7.0' 'Inco/Minion'\n",
            " 'LG/K-200' 'Lanix/Ilium' 'M4Tel/M4' 'Microsoft/Windows' 'Mozilla/Firefox'\n",
            " 'Nokia/Lumia' 'Samsung/SCH' 'Samsung/SM-G531H' 'Samsung/SM-G532M'\n",
            " 'ZTE/Blade' 'android' 'android browser 4.0' 'android webview 4.0' 'aol'\n",
            " 'chrome' 'chrome 43.0 for android' 'chrome 46.0 for android'\n",
            " 'chrome 49.0' 'chrome 49.0 for android' 'chrome 50.0 for android'\n",
            " 'chrome 51.0' 'chrome 51.0 for android' 'chrome 52.0 for android'\n",
            " 'chrome 53.0 for android' 'chrome 54.0 for android' 'chrome 55.0'\n",
            " 'chrome 55.0 for android' 'chrome 56.0' 'chrome 56.0 for android'\n",
            " 'chrome 57.0' 'chrome 57.0 for android' 'chrome 58.0'\n",
            " 'chrome 58.0 for android' 'chrome 59.0' 'chrome 59.0 for android'\n",
            " 'chrome 60.0' 'chrome 60.0 for android' 'chrome 61.0'\n",
            " 'chrome 61.0 for android' 'chrome 62.0' 'chrome 62.0 for android'\n",
            " 'chrome 62.0 for ios' 'chrome 63.0' 'chrome 63.0 for android'\n",
            " 'chrome 63.0 for ios' 'chrome 64.0' 'chrome 64.0 for android'\n",
            " 'chrome 64.0 for ios' 'chrome 65.0' 'chrome 65.0 for android'\n",
            " 'chrome 65.0 for ios' 'chrome 66.0' 'chrome 66.0 for android'\n",
            " 'chrome 66.0 for ios' 'chrome 67.0' 'chrome 67.0 for android'\n",
            " 'chrome 69.0' 'chrome generic' 'chrome generic for android' 'chromium'\n",
            " 'comodo' 'cyberfox' 'edge' 'edge 13.0' 'edge 14.0' 'edge 15.0'\n",
            " 'edge 16.0' 'edge 17.0' 'facebook' 'firefox' 'firefox 47.0'\n",
            " 'firefox 48.0' 'firefox 52.0' 'firefox 55.0' 'firefox 56.0'\n",
            " 'firefox 57.0' 'firefox 58.0' 'firefox 59.0' 'firefox 60.0'\n",
            " 'firefox generic' 'firefox mobile 61.0' 'google'\n",
            " 'google search application 48.0' 'google search application 49.0'\n",
            " 'icedragon' 'ie' 'ie 11.0 for desktop' 'ie 11.0 for tablet' 'iron' 'line'\n",
            " 'maxthon' 'missing' 'mobile' 'mobile safari 10.0' 'mobile safari 11.0'\n",
            " 'mobile safari 8.0' 'mobile safari 9.0' 'mobile safari generic'\n",
            " 'mobile safari uiwebview' 'opera' 'opera 49.0' 'opera 51.0' 'opera 52.0'\n",
            " 'opera 53.0' 'opera generic' 'other' 'palemoon' 'puffin' 'safari'\n",
            " 'safari 10.0' 'safari 11.0' 'safari 9.0' 'safari generic' 'samsung'\n",
            " 'samsung browser 3.3' 'samsung browser 4.0' 'samsung browser 4.2'\n",
            " 'samsung browser 5.2' 'samsung browser 5.4' 'samsung browser 6.2'\n",
            " 'samsung browser 6.4' 'samsung browser 7.0' 'samsung browser generic'\n",
            " 'seamonkey' 'silk' 'waterfox']\n",
            "['F' 'T' 'missing']\n",
            "['american express' 'discover' 'mastercard' 'missing' 'visa']\n",
            "['aim.com' 'anonymous.com' 'aol.com' 'att.net' 'bellsouth.net'\n",
            " 'cableone.net' 'centurylink.net' 'cfl.rr.com' 'charter.net' 'comcast.net'\n",
            " 'cox.net' 'earthlink.net' 'embarqmail.com' 'frontier.com'\n",
            " 'frontiernet.net' 'gmail' 'gmail.com' 'gmx.de' 'hotmail.co.uk'\n",
            " 'hotmail.com' 'hotmail.de' 'hotmail.es' 'hotmail.fr' 'icloud.com'\n",
            " 'juno.com' 'live.com' 'live.com.mx' 'live.fr' 'mac.com' 'mail.com'\n",
            " 'me.com' 'missing' 'msn.com' 'netzero.com' 'netzero.net' 'optonline.net'\n",
            " 'outlook.com' 'outlook.es' 'prodigy.net.mx' 'protonmail.com' 'ptd.net'\n",
            " 'q.com' 'roadrunner.com' 'rocketmail.com' 'sbcglobal.net' 'sc.rr.com'\n",
            " 'scranton.edu' 'servicios-ta.com' 'suddenlink.net' 'twc.com'\n",
            " 'verizon.net' 'web.de' 'windstream.net' 'yahoo.co.jp' 'yahoo.co.uk'\n",
            " 'yahoo.com' 'yahoo.com.mx' 'yahoo.de' 'yahoo.es' 'yahoo.fr' 'ymail.com']\n",
            "['F' 'T' 'missing']\n",
            "['M0' 'M1' 'M2' 'missing']\n",
            "['Found' 'NotFound' 'missing']\n",
            "['Found' 'NotFound' 'missing']\n",
            "['F' 'T' 'missing']\n",
            "['F' 'T' 'missing']\n",
            "['F' 'T' 'missing']\n",
            "['F' 'T' 'missing']\n"
          ],
          "name": "stdout"
        }
      ]
    },
    {
      "cell_type": "code",
      "metadata": {
        "id": "iu0eUER_U41f",
        "colab_type": "code",
        "colab": {}
      },
      "source": [
        "#Irrelevant cols selected for their irrelevent info\n",
        "IrrCol = ['id_33']\n",
        "dftrain = dftrain.drop(IrrCol,axis=1)\n"
      ],
      "execution_count": 0,
      "outputs": []
    },
    {
      "cell_type": "code",
      "metadata": {
        "id": "C8NhYDG3CcQz",
        "colab_type": "code",
        "colab": {
          "base_uri": "https://localhost:8080/",
          "height": 634
        },
        "outputId": "dd53518b-4dde-4ba2-828f-2049b6daeca7"
      },
      "source": [
        "#Reduce size of the dataset (not enough RAM)\n",
        "\n",
        "print('The size of is dftrain before ' + str(dftrain.shape))\n",
        "      \n",
        "dftrain_isF = dftrain[dftrain['isFraud']==1]\n",
        "dftrain_noF = dftrain[dftrain['isFraud']==0].sample(n=len(dftrain_isF))\n",
        "\n",
        "\n",
        "dftrain_noF.plot(x = 'TransactionAmt', y=1, kind = 'scatter')\n",
        "dftrain_isF.plot(x = 'TransactionAmt', y=1, kind = 'scatter')\n",
        "\n",
        "print(\"The size of non fraud\" + str(dftrain_noF.shape))\n",
        "print(\"The size of is fraud\" + str(dftrain_isF.shape))\n",
        "\n",
        "del dftrain\n",
        "\n",
        "dftrain = dftrain_noF.append(dftrain_isF)\n",
        "print(\"The size of non fraud\" + str(dftrain.shape))\n",
        "dftrain = dftrain.sample(frac=1).reset_index(drop=True)\n",
        "\n",
        "del dftrain_noF, dftrain_isF\n",
        "      \n",
        "print(\"The size of is dftrain after\" + str(dftrain.shape))\n",
        "\n"
      ],
      "execution_count": 16,
      "outputs": [
        {
          "output_type": "stream",
          "text": [
            "The size of is dftrain before (590540, 421)\n",
            "The size of non fraud(20663, 421)\n",
            "The size of is fraud(20663, 421)\n",
            "The size of non fraud(41326, 421)\n",
            "The size of is dftrain after(41326, 421)\n"
          ],
          "name": "stdout"
        },
        {
          "output_type": "display_data",
          "data": {
            "image/png": "[encoded data removed]",
            "text/plain": [
              "<Figure size 432x288 with 1 Axes>"
            ]
          },
          "metadata": {
            "tags": []
          }
        },
        {
          "output_type": "display_data",
          "data": {
            "image/png": "[encoded data removed]",
            "text/plain": [
              "<Figure size 432x288 with 1 Axes>"
            ]
          },
          "metadata": {
            "tags": []
          }
        }
      ]
    },
    {
      "cell_type": "markdown",
      "metadata": {
        "id": "3vmqqyDUajho",
        "colab_type": "text"
      },
      "source": [
        "# Machine Learning"
      ]
    },
    {
      "cell_type": "code",
      "metadata": {
        "id": "Pm7BZlu5UkHY",
        "colab_type": "code",
        "colab": {}
      },
      "source": [
        "dftrain = dftrain.replace(np.inf,999)\n",
        "#dftest = dftest.replace(np.inf,999)\n",
        "\n",
        "dftrain['TransactionAmt'] = np.log1p(dftrain['TransactionAmt'])\n",
        "#dftest['TransactionAmt'] = np.log1p(dftest['TransactionAmt'])\n",
        "\n"
      ],
      "execution_count": 0,
      "outputs": []
    },
    {
      "cell_type": "code",
      "metadata": {
        "id": "UQujlRgqcWhC",
        "colab_type": "code",
        "colab": {}
      },
      "source": [
        "y_train = dftrain['isFraud']\n",
        "dftrain = pd.get_dummies(dftrain)\n",
        "X_train = dftrain.drop('isFraud', axis=1)\n",
        "X_train = X_train.fillna(0)\n",
        "\n",
        "del dftrain"
      ],
      "execution_count": 0,
      "outputs": []
    },
    {
      "cell_type": "code",
      "metadata": {
        "id": "Vp30wXKectLF",
        "colab_type": "code",
        "colab": {}
      },
      "source": [
        "q = 0\n",
        "scaler = MinMaxScaler()\n",
        "for col in X_train.columns:\n",
        "    a = np.array(X_train[col])\n",
        "    a = a.reshape(-1,1)\n",
        "    X_train[col] = scaler.fit_transform(a)\n",
        "    if q >= 100:\n",
        "        break\n",
        "    else:\n",
        "        q+=1\n",
        "        continue\n",
        "del a"
      ],
      "execution_count": 0,
      "outputs": []
    },
    {
      "cell_type": "code",
      "metadata": {
        "id": "xLPgDnqqdBXX",
        "colab_type": "code",
        "colab": {
          "base_uri": "https://localhost:8080/",
          "height": 71
        },
        "outputId": "1971043f-b904-4859-9055-eccd9c1ccc94"
      },
      "source": [
        "#Export datasets prepared as vector, to avoid reprocessing\n",
        "vectorizer = CountVectorizer()\n",
        "from sklearn.externals import joblib\n",
        "joblib.dump(X_train, '/content/drive/My Drive/PythonData/KaggleComp_FraudDetection/dataset.joblib')\n",
        "joblib.dump(y_train, '/content/drive/My Drive/PythonData/KaggleComp_FraudDetection/datasety.joblib')\n",
        "del X_train, y_train"
      ],
      "execution_count": 20,
      "outputs": [
        {
          "output_type": "stream",
          "text": [
            "/usr/local/lib/python3.6/dist-packages/sklearn/externals/joblib/__init__.py:15: DeprecationWarning: sklearn.externals.joblib is deprecated in 0.21 and will be removed in 0.23. Please import this functionality directly from joblib, which can be installed with: pip install joblib. If this warning is raised when loading pickled models, you may need to re-serialize those models with scikit-learn 0.21+.\n",
            "  warnings.warn(msg, category=DeprecationWarning)\n"
          ],
          "name": "stderr"
        }
      ]
    },
    {
      "cell_type": "code",
      "metadata": {
        "id": "2-44G5xYdKn-",
        "colab_type": "code",
        "colab": {}
      },
      "source": [
        "#Import datasets\n",
        "x_train = joblib.load('/content/drive/My Drive/PythonData/KaggleComp_FraudDetection/dataset.joblib')\n",
        "y_train = joblib.load('/content/drive/My Drive/PythonData/KaggleComp_FraudDetection/datasety.joblib')\n"
      ],
      "execution_count": 0,
      "outputs": []
    },
    {
      "cell_type": "code",
      "metadata": {
        "id": "Pbwed5Azdjre",
        "colab_type": "code",
        "colab": {
          "base_uri": "https://localhost:8080/",
          "height": 326
        },
        "outputId": "89680077-c58e-4af5-d6f2-04f67545b6f2"
      },
      "source": [
        "lr = LogisticRegression(solver=\"liblinear\", random_state=42)\n",
        "lr.fit(x_train, y_train[:np.shape(x_train)[0]])\n",
        "\n",
        "\n",
        "score = cross_val_score(lr, x_train, y_train[:np.shape(x_train)[0]], cv=3, verbose=3)\n",
        "score.mean()"
      ],
      "execution_count": 22,
      "outputs": [
        {
          "output_type": "stream",
          "text": [
            "/usr/local/lib/python3.6/dist-packages/sklearn/svm/base.py:929: ConvergenceWarning: Liblinear failed to converge, increase the number of iterations.\n",
            "  \"the number of iterations.\", ConvergenceWarning)\n",
            "[Parallel(n_jobs=1)]: Using backend SequentialBackend with 1 concurrent workers.\n"
          ],
          "name": "stderr"
        },
        {
          "output_type": "stream",
          "text": [
            "[CV]  ................................................................\n"
          ],
          "name": "stdout"
        },
        {
          "output_type": "stream",
          "text": [
            "/usr/local/lib/python3.6/dist-packages/sklearn/svm/base.py:929: ConvergenceWarning: Liblinear failed to converge, increase the number of iterations.\n",
            "  \"the number of iterations.\", ConvergenceWarning)\n",
            "[Parallel(n_jobs=1)]: Done   1 out of   1 | elapsed:   54.5s remaining:    0.0s\n"
          ],
          "name": "stderr"
        },
        {
          "output_type": "stream",
          "text": [
            "[CV] .................................... , score=0.714, total=  54.5s\n",
            "[CV]  ................................................................\n"
          ],
          "name": "stdout"
        },
        {
          "output_type": "stream",
          "text": [
            "/usr/local/lib/python3.6/dist-packages/sklearn/svm/base.py:929: ConvergenceWarning: Liblinear failed to converge, increase the number of iterations.\n",
            "  \"the number of iterations.\", ConvergenceWarning)\n",
            "[Parallel(n_jobs=1)]: Done   2 out of   2 | elapsed:  1.6min remaining:    0.0s\n"
          ],
          "name": "stderr"
        },
        {
          "output_type": "stream",
          "text": [
            "[CV] .................................... , score=0.713, total=  43.3s\n",
            "[CV]  ................................................................\n",
            "[CV] .................................... , score=0.707, total=  47.4s\n"
          ],
          "name": "stdout"
        },
        {
          "output_type": "stream",
          "text": [
            "[Parallel(n_jobs=1)]: Done   3 out of   3 | elapsed:  2.4min finished\n"
          ],
          "name": "stderr"
        },
        {
          "output_type": "execute_result",
          "data": {
            "text/plain": [
              "0.7111985395456021"
            ]
          },
          "metadata": {
            "tags": []
          },
          "execution_count": 22
        }
      ]
    },
    {
      "cell_type": "code",
      "metadata": {
        "id": "lx9RPZa0B4J_",
        "colab_type": "code",
        "colab": {
          "base_uri": "https://localhost:8080/",
          "height": 51
        },
        "outputId": "ee5bdd6b-e89a-437c-e72d-a979087a5e76"
      },
      "source": [
        "d = {'col1': [1, 2], 'col2': [3, 4]}\n",
        "e = {'col1': [3, 4], 'col2': [5, 6]}\n",
        "dd = pd.DataFrame(data=d)\n",
        "ee = pd.DataFrame(data=e)\n",
        "dd\n",
        "ee\n",
        "\n",
        "dd.append(ee)\n",
        "print(\"h \" + str(dd.shape))\n",
        "\n",
        "dd = dd.append(ee)\n",
        "print(\"h \" + str(dd.shape))"
      ],
      "execution_count": 24,
      "outputs": [
        {
          "output_type": "stream",
          "text": [
            "h (2, 2)\n",
            "h (4, 2)\n"
          ],
          "name": "stdout"
        }
      ]
    }
  ]
}